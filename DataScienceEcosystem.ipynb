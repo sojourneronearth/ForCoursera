{
 "cells": [
  {
   "cell_type": "markdown",
   "id": "486a6417-8205-4a6c-af8c-f66a3a1065d6",
   "metadata": {},
   "source": [
    "# Data Science Tools and Ecosystem"
   ]
  },
  {
   "cell_type": "markdown",
   "id": "fd5c3d3d-c872-4c73-a8ed-c892a8ec5f9e",
   "metadata": {},
   "source": [
    "## In this notebook, Data Science Tools and Ecosystem are summarized."
   ]
  },
  {
   "cell_type": "markdown",
   "id": "9b7096b4-2519-4800-977a-d734076304fc",
   "metadata": {
    "tags": []
   },
   "source": [
    "# **Objectives:**\n",
    "- List popular languages for Data Science\n",
    "- List commonly used libraries for Data Science\n",
    "- List tools used in Data Science"
   ]
  },
  {
   "cell_type": "markdown",
   "id": "42453c85-24c0-4fbd-b06a-92b61860ff68",
   "metadata": {},
   "source": [
    "### Some of the popular languages that Data Scientists use are:\n",
    "\n",
    "1. Python\n",
    "2. R\n",
    "3. SQL"
   ]
  },
  {
   "cell_type": "markdown",
   "id": "a808d3dc-e7d6-48b8-80a1-aa64c9730eb0",
   "metadata": {},
   "source": [
    "## Some of the commonly used libraries used by Data Scientists include:\n",
    "\n",
    "1. Pandas: A powerful library for data manipulation and analysis, providing data structures like DataFrames for handling structured data.\n",
    "2. NumPy: Fundamental for numerical computing in Python, offering support for arrays, matrices, and a variety of mathematical functions.\n",
    "3. Matplotlib: A widely used library for data visualization, allowing the creation of static, animated, and interactive plots in Python."
   ]
  },
  {
   "cell_type": "markdown",
   "id": "7db406c6-602e-423e-9d02-58e5df9f8d48",
   "metadata": {},
   "source": [
    "## Data Science Tools\n",
    "\n",
    "1. Jupyter Notebook: An interactive web-based environment that allows you to create and share documents containing live code, equations, visualizations, and narrative text.\n",
    "2. RStudio: An integrated development environment (IDE) for R that provides tools for data analysis, visualization, and statistical modeling.\n",
    "3. Apache Zeppelin: A web-based notebook that supports multiple languages (including Python, R, and Scala) and is designed for interactive data analytics and visualization."
   ]
  },
  {
   "cell_type": "markdown",
   "id": "5bfd3109-1658-40dc-9f7e-15ba0f442dad",
   "metadata": {
    "tags": []
   },
   "source": [
    "### Below are a few examples of evaluating arithmetic expressions in Python\n",
    "\n",
    "1. addition\n",
    "\n",
    "result = 5 + 3\n",
    "print(result)  # Output: 8\n",
    "\n",
    "2. subtraction\n",
    "\n",
    "result = 10 - 4\n",
    "print(result)  # Output: 6\n",
    "\n",
    "3. Multiplication\n",
    "\n",
    "result = 7 * 6\n",
    "print(result)  # Output: 42\n",
    "\n",
    "4. Division\n",
    "\n",
    "result = 20 / 4\n",
    "print(result)  # Output: 5.0\n"
   ]
  },
  {
   "cell_type": "code",
   "execution_count": 2,
   "id": "25b20fec-739d-45dd-9942-56e6fd5e7e7d",
   "metadata": {
    "tags": []
   },
   "outputs": [
    {
     "data": {
      "text/plain": [
       "17"
      ]
     },
     "execution_count": 2,
     "metadata": {},
     "output_type": "execute_result"
    }
   ],
   "source": [
    "(3*4)+5"
   ]
  },
  {
   "cell_type": "code",
   "execution_count": 3,
   "id": "7fa1fe3d-1d9c-432e-94a8-b34d6ae067a4",
   "metadata": {
    "tags": []
   },
   "outputs": [
    {
     "data": {
      "text/plain": [
       "17"
      ]
     },
     "execution_count": 3,
     "metadata": {},
     "output_type": "execute_result"
    }
   ],
   "source": [
    "# This a simple arithmetic expression to mutiply then add integers\n",
    "(3*4)+5"
   ]
  },
  {
   "cell_type": "code",
   "execution_count": 4,
   "id": "8332b033-bf50-4055-be89-9d8d3894ffe5",
   "metadata": {
    "tags": []
   },
   "outputs": [
    {
     "data": {
      "text/plain": [
       "3.3333333333333335"
      ]
     },
     "execution_count": 4,
     "metadata": {},
     "output_type": "execute_result"
    }
   ],
   "source": [
    "# This will convert 200 minutes to hours by diving by 60\n",
    "200/60"
   ]
  },
  {
   "cell_type": "markdown",
   "id": "d73b2a09-d2b8-473b-a1f0-25e8f80d8a7c",
   "metadata": {},
   "source": [
    "## Author\n",
    "Wanda Yuen"
   ]
  },
  {
   "cell_type": "code",
   "execution_count": null,
   "id": "0e6339e2-1056-4357-bdd0-fee63e5fd4bd",
   "metadata": {},
   "outputs": [],
   "source": []
  }
 ],
 "metadata": {
  "kernelspec": {
   "display_name": "Python",
   "language": "python",
   "name": "conda-env-python-py"
  },
  "language_info": {
   "codemirror_mode": {
    "name": "ipython",
    "version": 3
   },
   "file_extension": ".py",
   "mimetype": "text/x-python",
   "name": "python",
   "nbconvert_exporter": "python",
   "pygments_lexer": "ipython3",
   "version": "3.7.12"
  }
 },
 "nbformat": 4,
 "nbformat_minor": 5
}
